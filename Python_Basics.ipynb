{
  "nbformat": 4,
  "nbformat_minor": 0,
  "metadata": {
    "colab": {
      "provenance": [],
      "authorship_tag": "ABX9TyNp4dN1OzIgw88ivpKqGwmk",
      "include_colab_link": true
    },
    "kernelspec": {
      "name": "python3",
      "display_name": "Python 3"
    },
    "language_info": {
      "name": "python"
    }
  },
  "cells": [
    {
      "cell_type": "markdown",
      "metadata": {
        "id": "view-in-github",
        "colab_type": "text"
      },
      "source": [
        "<a href=\"https://colab.research.google.com/github/shadiAndishe/Python_tutorial_for_mystudents/blob/main/Python_Basics.ipynb\" target=\"_parent\"><img src=\"https://colab.research.google.com/assets/colab-badge.svg\" alt=\"Open In Colab\"/></a>"
      ]
    },
    {
      "cell_type": "markdown",
      "source": [
        "The volume of a sphere with radius r is 3 πr3. What is the volume of a sphere with radius 5?"
      ],
      "metadata": {
        "id": "xwgr5mdchT-3"
      }
    },
    {
      "cell_type": "code",
      "execution_count": null,
      "metadata": {
        "colab": {
          "base_uri": "https://localhost:8080/"
        },
        "id": "fQF7YbfTtHml",
        "outputId": "5fb8589d-8561-40c3-9f5e-6d6605d9d241"
      },
      "outputs": [
        {
          "output_type": "stream",
          "name": "stdout",
          "text": [
            "the volume of the sphere is: 523.5987755982989\n"
          ]
        }
      ],
      "source": [
        "import math\n",
        "\n",
        "r=5\n",
        "value= (4/3) * math.pi * r**3\n",
        "print(f\"the volume of the sphere is: {value}\")"
      ]
    },
    {
      "cell_type": "markdown",
      "source": [
        "Suppose the cover price of a book is $24.95, but bookstores get a 40% discount.\n",
        "Shipping costs 3 euro for the first copy and 75 cents for each additional copy. What is\n",
        "the total wholesale cost for 60 copies?"
      ],
      "metadata": {
        "id": "M02XkFYshZJY"
      }
    },
    {
      "cell_type": "code",
      "source": [
        "\n",
        "cover_p = 24.95\n",
        "selling_p = (cover_p * 0.6)\n",
        "\n",
        "number_of_orders = 60\n",
        "if number_of_orders == 1:\n",
        "  a=1\n",
        "  b=0\n",
        "else:\n",
        "  a=1\n",
        "  b= number_of_orders -1\n",
        "\n",
        "total = a*(selling_p + 3) + b*(selling_p + 0.75)\n",
        "print(total)\n"
      ],
      "metadata": {
        "colab": {
          "base_uri": "https://localhost:8080/"
        },
        "id": "rg0WiTGxhZu6",
        "outputId": "14ddd219-fd7d-4687-ed89-425aa80bc034"
      },
      "execution_count": null,
      "outputs": [
        {
          "output_type": "stream",
          "name": "stdout",
          "text": [
            "945.4499999999999\n"
          ]
        }
      ]
    },
    {
      "cell_type": "code",
      "source": [
        "\n",
        "cover_p = 24.95  # Price of the book\n",
        "discount_rate = 0.4  # Discount\n",
        "shipping_first_copy = 3.00  # Shipping cost for the first copy\n",
        "shipping_additional_copy = 0.75  # Shipping cost for each additional copy\n",
        "number_of_copies = 60  # Total copies\n",
        "\n",
        "discounted_price = cover_p * (1 - discount_rate)\n",
        "\n",
        "total_books_cost = discounted_price * number_of_copies\n",
        "\n",
        "total_shipping_cost = shipping_first_copy + shipping_additional_copy * (number_of_copies - 1)\n",
        "\n",
        "# Total wholesale cost\n",
        "total = total_books_cost + total_shipping_cost\n",
        "\n",
        "print(f\"The total wholesale cost for {number_of_copies} copies is: ${total:.2f}\")\n"
      ],
      "metadata": {
        "colab": {
          "base_uri": "https://localhost:8080/"
        },
        "id": "kLUFdB7chSan",
        "outputId": "abf30eb3-2783-4415-aef9-5b4bf3ac4d32"
      },
      "execution_count": null,
      "outputs": [
        {
          "output_type": "stream",
          "name": "stdout",
          "text": [
            "The total wholesale cost for 60 copies is: $945.45\n"
          ]
        }
      ]
    },
    {
      "cell_type": "markdown",
      "source": [
        "If I leave my house at 6:52 am and run 1 mile at an easy pace (8:15 per mile), then\n",
        "3 miles at tempo (7:12 per mile) and 1 mile at an easy pace again, what time do I get home for breakfast?"
      ],
      "metadata": {
        "id": "vuBoUrL8m46w"
      }
    },
    {
      "cell_type": "code",
      "source": [
        "leaving_time = 6:52\n",
        "easy_speed ="
      ],
      "metadata": {
        "id": "7C8Xwu7elzyM"
      },
      "execution_count": null,
      "outputs": []
    }
  ]
}