{
  "nbformat": 4,
  "nbformat_minor": 0,
  "metadata": {
    "colab": {
      "provenance": [],
      "authorship_tag": "ABX9TyNSEiP2SGLlYLGsdocRHfYI",
      "include_colab_link": true
    },
    "kernelspec": {
      "name": "python3",
      "display_name": "Python 3"
    },
    "language_info": {
      "name": "python"
    }
  },
  "cells": [
    {
      "cell_type": "markdown",
      "metadata": {
        "id": "view-in-github",
        "colab_type": "text"
      },
      "source": [
        "<a href=\"https://colab.research.google.com/github/shadiAndishe/Python_tutorial_for_mystudents/blob/main/Python_Basics.ipynb\" target=\"_parent\"><img src=\"https://colab.research.google.com/assets/colab-badge.svg\" alt=\"Open In Colab\"/></a>"
      ]
    },
    {
      "cell_type": "markdown",
      "source": [
        "This introduction is well-suited for teaching Python to beginners. It clearly explains what a program is and breaks it down into simple concepts like input, output, math, conditionals, and repetition. Starting with browser-based Python tools like PythonAnywhere is a great idea to avoid setup issues, and the examples, such as print('Hello, World!'), are easy to follow and practical.\n",
        "\n",
        "The comparison between formal and natural languages helps students understand the importance of precision in programming, and the debugging section gives a useful mindset for tackling errors."
      ],
      "metadata": {
        "id": "mCha5LehdkP2"
      }
    },
    {
      "cell_type": "markdown",
      "source": [
        "Ex 1 : The volume of a sphere with radius r is 3 πr3. What is the volume of a sphere with radius 5?"
      ],
      "metadata": {
        "id": "xwgr5mdchT-3"
      }
    },
    {
      "cell_type": "code",
      "execution_count": null,
      "metadata": {
        "colab": {
          "base_uri": "https://localhost:8080/"
        },
        "id": "fQF7YbfTtHml",
        "outputId": "5fb8589d-8561-40c3-9f5e-6d6605d9d241"
      },
      "outputs": [
        {
          "output_type": "stream",
          "name": "stdout",
          "text": [
            "the volume of the sphere is: 523.5987755982989\n"
          ]
        }
      ],
      "source": [
        "import math\n",
        "\n",
        "r=5\n",
        "value= (4/3) * math.pi * r**3\n",
        "print(f\"the volume of the sphere is: {value}\")"
      ]
    },
    {
      "cell_type": "markdown",
      "source": [
        "Ex 2 : Suppose the cover price of a book is $24.95, but bookstores get a 40% discount.\n",
        "Shipping costs 3 euro for the first copy and 75 cents for each additional copy. What is\n",
        "the total wholesale cost for 60 copies?"
      ],
      "metadata": {
        "id": "M02XkFYshZJY"
      }
    },
    {
      "cell_type": "code",
      "source": [
        "\n",
        "cover_p = 24.95\n",
        "selling_p = (cover_p * 0.6)\n",
        "\n",
        "number_of_orders = 60\n",
        "if number_of_orders == 1:\n",
        "  a=1\n",
        "  b=0\n",
        "else:\n",
        "  a=1\n",
        "  b= number_of_orders -1\n",
        "\n",
        "total = a*(selling_p + 3) + b*(selling_p + 0.75)\n",
        "print(total)\n"
      ],
      "metadata": {
        "colab": {
          "base_uri": "https://localhost:8080/"
        },
        "id": "rg0WiTGxhZu6",
        "outputId": "14ddd219-fd7d-4687-ed89-425aa80bc034"
      },
      "execution_count": null,
      "outputs": [
        {
          "output_type": "stream",
          "name": "stdout",
          "text": [
            "945.4499999999999\n"
          ]
        }
      ]
    },
    {
      "cell_type": "code",
      "source": [
        "\n",
        "cover_p = 24.95  # Price of the book\n",
        "discount_rate = 0.4  # Discount\n",
        "shipping_first_copy = 3.00  # Shipping cost for the first copy\n",
        "shipping_additional_copy = 0.75  # Shipping cost for each additional copy\n",
        "number_of_copies = 60  # Total copies\n",
        "\n",
        "discounted_price = cover_p * (1 - discount_rate)\n",
        "\n",
        "total_books_cost = discounted_price * number_of_copies\n",
        "\n",
        "total_shipping_cost = shipping_first_copy + shipping_additional_copy * (number_of_copies - 1)\n",
        "\n",
        "# Total wholesale cost\n",
        "total = total_books_cost + total_shipping_cost\n",
        "\n",
        "print(f\"The total wholesale cost for {number_of_copies} copies is: ${total:.2f}\")\n"
      ],
      "metadata": {
        "colab": {
          "base_uri": "https://localhost:8080/"
        },
        "id": "kLUFdB7chSan",
        "outputId": "abf30eb3-2783-4415-aef9-5b4bf3ac4d32"
      },
      "execution_count": null,
      "outputs": [
        {
          "output_type": "stream",
          "name": "stdout",
          "text": [
            "The total wholesale cost for 60 copies is: $945.45\n"
          ]
        }
      ]
    },
    {
      "cell_type": "markdown",
      "source": [
        "Ex 3 : If I leave my house at 6:52 am and run 1 mile at an easy pace (8:15 per mile), then\n",
        "3 miles at tempo (7:12 per mile) and 1 mile at an easy pace again, what time do I get home for breakfast?"
      ],
      "metadata": {
        "id": "vuBoUrL8m46w"
      }
    },
    {
      "cell_type": "markdown",
      "source": [
        "lets introduce a library about the time -> Datetime:\n",
        "\n",
        "**Datetime** provides classes for manipulating dates and times in an easy and flexible way.\n",
        "The datetime module in Python provides classes for working with dates and times. Here's an overview of the main components of the datetime library:\n",
        "\n",
        " 1. The **datetime** module includes the following key classes:\n",
        "  a. datetime\n",
        "  Represents both date and time together.Common Methods:\n",
        "  - datetime.now(): Returns the current local date and time.\n",
        "  - datetime.strptime(string, format):\n",
        "      Converts a string representation of a date/time into a datetime object.\n",
        "      Used when you have a date/time as a string and need to parse it into a Python datetime object.\n",
        "  - datetime.strftime(format):\n",
        "      Converts a datetime object into a string representation.\n",
        "      Used when you have a datetime object and want to display it as a formatted string.\n",
        "\n",
        "\n",
        "2. The **date** Represents a date (year, month, and day).Common Methods:\n",
        "\n",
        "- date.today(): Returns the current date.\n",
        "- date(year, month, day): Creates a date object for a specific date.\n",
        "- date.fromisoformat('YYYY-MM-DD'): Parses a date from an ISO 8601 string.\n",
        "\n",
        "3. The **time**\n",
        "Represents time (hour, minute, second, microsecond).Common Methods:\n",
        "- time(hour, minute, second, microsecond): Creates a time object.\n",
        "- time.replace(): Returns a new time object with updated values.\n",
        "\n",
        "4. The timedelta:\n",
        "Represents a duration (difference between two date or datetime objects). Common Uses:\n",
        "- Add or subtract durations to/from datetime objects.\n",
        "- Compare durations.\n",
        "- Create timedelta objects with keyword arguments like days, hours, minutes, etc."
      ],
      "metadata": {
        "id": "eOGP8vUD5BaU"
      }
    },
    {
      "cell_type": "code",
      "source": [
        "from datetime import datetime, timedelta\n",
        "#Convert start time to a datetime object format\n",
        "start_time = datetime.strptime(\"6:52 AM\", \"%I:%M %p\")\n",
        "print(start_time)\n",
        "\n",
        "# cal Running times\n",
        "easy_pace = timedelta(minutes=8, seconds=15)  # Easy pace time per mile in the format of timedelta to easy handling time arithmetic\n",
        "tempo_pace = timedelta(minutes=7, seconds=12)  # Tempo pace time per mile\n",
        "\n",
        "# Calculate total running time\n",
        "total_time = easy_pace * 2 + tempo_pace * 3  # 1 mile easy pace + 3 miles tempo pace + 1 mile easy pace\n",
        "\n",
        "# Calculate finish time\n",
        "finish_time = start_time + total_time\n",
        "print(finish_time)\n",
        "\n",
        "# Format the finish time\n",
        "formatted_time = finish_time.strftime(\"%I:%M %p\")\n",
        "print(f\"You will get home for breakfast at {formatted_time}.\")\n"
      ],
      "metadata": {
        "id": "7C8Xwu7elzyM",
        "colab": {
          "base_uri": "https://localhost:8080/"
        },
        "outputId": "6196cc6d-0c23-4a41-b799-2b0ef956005b"
      },
      "execution_count": 7,
      "outputs": [
        {
          "output_type": "stream",
          "name": "stdout",
          "text": [
            "1900-01-01 06:52:00\n",
            "1900-01-01 07:30:06\n",
            "You will get home for breakfast at 07:30 .\n"
          ]
        }
      ]
    },
    {
      "cell_type": "markdown",
      "source": [
        "### Pay Attention to the difference of strptime and strftime :)"
      ],
      "metadata": {
        "id": "6e-EYS5sKU1P"
      }
    },
    {
      "cell_type": "markdown",
      "source": [
        "| Feature            | `strptime`                           | `strftime`                          |\n",
        "|---------------------|---------------------------------------|--------------------------------------|\n",
        "| **Purpose**         | Parse a string into a `datetime`.    | Format a `datetime` into a string.  |\n",
        "| **Input**           | String + format string.              | `datetime` object + format string.  |\n",
        "| **Output**          | `datetime` object.                   | String.                             |\n",
        "| **Use Case**        | When converting from string to date. | When converting from date to string.|\n"
      ],
      "metadata": {
        "id": "9KPaDfkXdjPr"
      }
    }
  ]
}