{
  "nbformat": 4,
  "nbformat_minor": 0,
  "metadata": {
    "colab": {
      "provenance": [],
      "authorship_tag": "ABX9TyNFOZTais/gC78QTfJb9PEG"
    },
    "kernelspec": {
      "name": "python3",
      "display_name": "Python 3"
    },
    "language_info": {
      "name": "python"
    }
  },
  "cells": [
    {
      "cell_type": "markdown",
      "source": [
        "#### **You will learn about deque:**\n",
        "\n",
        "\n",
        "*   What is a Deque and how it is different from list and why it is better\n",
        "*   when we should use deque and when we should use list\n",
        "*   How to use methods and arguments that deque provide\n",
        "*   A useful Function\n",
        "\n",
        "In Python, a common way to keep the last N items during iteration or processing is by using the \"\"collections.deque\"\" object, which is a double-ended queue that supports fast appends and pops from both ends.\n",
        "The deque object from collections is a list-like object that supports fast append and pops from both sides.\n",
        "It also supports thread-safe, memory-efficient operations,and it was specifically designed to be more efficient than lists when used as queues and stacks.\n"
      ],
      "metadata": {
        "id": "ijaADY5gIHPp"
      }
    },
    {
      "cell_type": "code",
      "execution_count": 2,
      "metadata": {
        "id": "XEsjUuagG5z4"
      },
      "outputs": [],
      "source": [
        "list_items = [5,6,8,9,78,35]\n",
        "list_items.insert(0,4)"
      ]
    },
    {
      "cell_type": "code",
      "source": [
        "list_items"
      ],
      "metadata": {
        "colab": {
          "base_uri": "https://localhost:8080/"
        },
        "id": "gcLg_OwFJZV9",
        "outputId": "066e2b5f-9104-43d8-881d-ab588ab6d58d"
      },
      "execution_count": 3,
      "outputs": [
        {
          "output_type": "execute_result",
          "data": {
            "text/plain": [
              "[4, 5, 6, 8, 9, 78, 35]"
            ]
          },
          "metadata": {},
          "execution_count": 3
        }
      ]
    },
    {
      "cell_type": "markdown",
      "source": [
        "the difference with list is that since lists use indexes for example in a method like insert since lists ordered in very specific way, one insert will be really inefficient in memory allocation."
      ],
      "metadata": {
        "id": "ezPyTXQuJi9t"
      }
    },
    {
      "cell_type": "code",
      "source": [
        "from collections import deque\n",
        "deque_items = deque([4,6,7,8,9,12])\n",
        "deque_items.append(6)\n",
        "deque_items"
      ],
      "metadata": {
        "colab": {
          "base_uri": "https://localhost:8080/"
        },
        "id": "6T3_6mCNJipr",
        "outputId": "0e1b681c-aa75-4ae3-8517-22588fc86ad4"
      },
      "execution_count": 4,
      "outputs": [
        {
          "output_type": "execute_result",
          "data": {
            "text/plain": [
              "deque([4, 6, 7, 8, 9, 12, 6])"
            ]
          },
          "metadata": {},
          "execution_count": 4
        }
      ]
    },
    {
      "cell_type": "code",
      "source": [
        "deque_items.extend([55,56,57])\n",
        "deque_items"
      ],
      "metadata": {
        "colab": {
          "base_uri": "https://localhost:8080/"
        },
        "id": "0lvS3UzLJisZ",
        "outputId": "e50adda5-92b2-454d-dea8-d23b45a7e41c"
      },
      "execution_count": 5,
      "outputs": [
        {
          "output_type": "execute_result",
          "data": {
            "text/plain": [
              "deque([4, 6, 7, 8, 9, 12, 6, 55, 56, 57])"
            ]
          },
          "metadata": {},
          "execution_count": 5
        }
      ]
    },
    {
      "cell_type": "code",
      "source": [
        "deque_items.extend([55,56,57])\n",
        "deque_items"
      ],
      "metadata": {
        "colab": {
          "base_uri": "https://localhost:8080/"
        },
        "id": "ql9GY8lOKSoh",
        "outputId": "ed37b0f3-4080-4440-adbc-8b3282988df2"
      },
      "execution_count": 6,
      "outputs": [
        {
          "output_type": "execute_result",
          "data": {
            "text/plain": [
              "deque([4, 6, 7, 8, 9, 12, 6, 55, 56, 57, 55, 56, 57])"
            ]
          },
          "metadata": {},
          "execution_count": 6
        }
      ]
    },
    {
      "cell_type": "markdown",
      "source": [
        "As you can see, in deque in compare to the list, everytime i run the deque object with extend function it stack the same list of  ([55,56,57]) on the top of previous one like an stack! but in list it is not this!"
      ],
      "metadata": {
        "id": "aaSlln2VKWn6"
      }
    },
    {
      "cell_type": "code",
      "source": [
        "deque_items.extendleft([44,45,46,47])\n",
        "deque_items"
      ],
      "metadata": {
        "colab": {
          "base_uri": "https://localhost:8080/"
        },
        "id": "yP1yfdsFKuYK",
        "outputId": "ecfe8d4b-04b1-41c5-b1b1-84b691a86866"
      },
      "execution_count": 7,
      "outputs": [
        {
          "output_type": "execute_result",
          "data": {
            "text/plain": [
              "deque([47, 46, 45, 44, 4, 6, 7, 8, 9, 12, 6, 55, 56, 57, 55, 56, 57])"
            ]
          },
          "metadata": {},
          "execution_count": 7
        }
      ]
    },
    {
      "cell_type": "markdown",
      "source": [
        "As you can see there is an unexpected behavior in extendleft! because it somehow append the numbers to the left of the list so here first it append 44, then append 45,... so the list that we appended to the left of the list is reverse!\n",
        "**But** A good example of using extendleft in Python's collections.deque over inserting elements at the left of a list demonstrates its efficiency in adding multiple elements to the front of the sequence.\n",
        "\n",
        "Consider this scenario: you want to prepend a large number of elements to a sequence. Using a list, you would have to repeatedly insert elements at index 0, which is an **O(n)** operation because all the existing elements have to be shifted. With deque, using extendleft is much faster as deques are optimized for fast O(1) appends and pops from both ends. lets make an example:\n",
        "\n"
      ],
      "metadata": {
        "id": "9s-j1SVILBwV"
      }
    },
    {
      "cell_type": "code",
      "source": [
        "deque_items.pop()"
      ],
      "metadata": {
        "id": "bEMgSGwGL5ey",
        "colab": {
          "base_uri": "https://localhost:8080/"
        },
        "outputId": "b142477e-8be6-46bc-a96f-f2f500acfa72"
      },
      "execution_count": 8,
      "outputs": [
        {
          "output_type": "execute_result",
          "data": {
            "text/plain": [
              "57"
            ]
          },
          "metadata": {},
          "execution_count": 8
        }
      ]
    },
    {
      "cell_type": "code",
      "source": [
        "deque_items"
      ],
      "metadata": {
        "colab": {
          "base_uri": "https://localhost:8080/"
        },
        "id": "jJ12-B-8vsKs",
        "outputId": "4b86ba6e-b073-4f3c-b538-de65c6ae03fe"
      },
      "execution_count": 9,
      "outputs": [
        {
          "output_type": "execute_result",
          "data": {
            "text/plain": [
              "deque([47, 46, 45, 44, 4, 6, 7, 8, 9, 12, 6, 55, 56, 57, 55, 56])"
            ]
          },
          "metadata": {},
          "execution_count": 9
        }
      ]
    },
    {
      "cell_type": "code",
      "source": [
        "deque_items.popleft()"
      ],
      "metadata": {
        "colab": {
          "base_uri": "https://localhost:8080/"
        },
        "id": "dkqjRQiqvvvI",
        "outputId": "08f5ec57-f09a-4ed8-d736-1827cc1827e8"
      },
      "execution_count": 10,
      "outputs": [
        {
          "output_type": "execute_result",
          "data": {
            "text/plain": [
              "47"
            ]
          },
          "metadata": {},
          "execution_count": 10
        }
      ]
    },
    {
      "cell_type": "markdown",
      "source": [
        "Giving deque a MAX length: A great exercise that demonstrates the usefulness of a deque with a maximum length is implementing a moving average or sliding window average calculation. This is a common operation in time series analysis, where you want to keep track of the average of the last n values in a sequence (such as stock prices, sensor readings, or any streaming data)."
      ],
      "metadata": {
        "id": "S7iEJ-qbv8Rn"
      }
    },
    {
      "cell_type": "markdown",
      "source": [
        "Exercise: **Moving Average Calculation**\n",
        "Write a function to calculate the moving average of the last n numbers in a sequence of data using a deque with a fixed maxlen."
      ],
      "metadata": {
        "id": "1gN-Qwyvw85B"
      }
    },
    {
      "cell_type": "code",
      "source": [
        "def moving_average(sequence, window_size):\n",
        "    # Initialize a deque with max length set to window_size\n",
        "    window = deque(maxlen=window_size)\n",
        "    averages = []\n",
        "\n",
        "    for num in sequence:\n",
        "        # Add the current number to the deque\n",
        "        window.append(num)\n",
        "\n",
        "        # Calculate the moving average and add it to the list of averages\n",
        "        average = sum(window) / len(window)\n",
        "        averages.append(average)\n",
        "\n",
        "    return averages"
      ],
      "metadata": {
        "id": "JzDiizpQv2fV"
      },
      "execution_count": 11,
      "outputs": []
    },
    {
      "cell_type": "code",
      "source": [
        "data = [10, 20, 30, 40, 50, 60, 70, 80]\n",
        "window_size = 3\n",
        "print(moving_average(data, window_size))"
      ],
      "metadata": {
        "colab": {
          "base_uri": "https://localhost:8080/"
        },
        "id": "JAo_uZ6TxQsZ",
        "outputId": "b0d1a93f-b1b3-42bf-86e0-bf35b3aa0d47"
      },
      "execution_count": 12,
      "outputs": [
        {
          "output_type": "stream",
          "name": "stdout",
          "text": [
            "[10.0, 15.0, 20.0, 30.0, 40.0, 50.0, 60.0, 70.0]\n"
          ]
        }
      ]
    },
    {
      "cell_type": "markdown",
      "source": [
        "Efficiency: With a deque of fixed size, when the window is full, adding a new number automatically removes the oldest one, saving memory and processing time.\n",
        "With a deque, adding a new item and automatically removing the oldest item (when the deque is full) happens in constant time, O(1), thanks to optimized operations at both ends. In contrast, using a list would require O(n) time to remove the first element, as it needs to shift all elements one position. The deque also maintains a stable memory footprint since it’s limited by maxlen, while a list could grow indefinitely if not managed carefully. This automatic size control makes the code cleaner and more readable, reducing the need for manual checks or size-trimming logic."
      ],
      "metadata": {
        "id": "_z9u6yIdy1kI"
      }
    },
    {
      "cell_type": "markdown",
      "source": [
        "####**Final** comprison of efficiency of list and Deque"
      ],
      "metadata": {
        "id": "aHn_V6O0zYS6"
      }
    },
    {
      "cell_type": "markdown",
      "source": [
        "Lets append items in the left of List and Deque and compare the runtime!"
      ],
      "metadata": {
        "id": "X9shdGLx7rat"
      }
    },
    {
      "cell_type": "code",
      "source": [
        "#speed\n",
        "%%timeit\n",
        "list_1 = []\n",
        "for i in range(50000):\n",
        "  list_1.insert(0,1)"
      ],
      "metadata": {
        "colab": {
          "base_uri": "https://localhost:8080/"
        },
        "id": "ZsK8KJ-vxXoy",
        "outputId": "e557033b-4fa3-4fa4-bd22-f11106a58989"
      },
      "execution_count": 13,
      "outputs": [
        {
          "output_type": "stream",
          "name": "stdout",
          "text": [
            "905 ms ± 32.8 ms per loop (mean ± std. dev. of 7 runs, 1 loop each)\n"
          ]
        }
      ]
    },
    {
      "cell_type": "code",
      "source": [
        "%%timeit\n",
        "deque_1 = deque()\n",
        "for i in range(50000):\n",
        "  deque_1.append(1)"
      ],
      "metadata": {
        "colab": {
          "base_uri": "https://localhost:8080/"
        },
        "id": "yigAMKVK6xNO",
        "outputId": "4dab8ec0-caab-4717-d687-bae6a44a3c16"
      },
      "execution_count": 14,
      "outputs": [
        {
          "output_type": "stream",
          "name": "stdout",
          "text": [
            "6.24 ms ± 1.18 ms per loop (mean ± std. dev. of 7 runs, 100 loops each)\n"
          ]
        }
      ]
    },
    {
      "cell_type": "markdown",
      "source": [
        "You can see how much difference is in running time(over 200 times more!)\n",
        "so in huge amount of data, deque can be really signifant Runtime!\n",
        "\n",
        "####But you may think ok, i will use Deque for Everything! But not in all cases Deques are faster than list!\n",
        "\n",
        "###Deques **are Not faster in Accessing items **in the deque. lists are faster in that case!\n",
        "\n",
        "\n"
      ],
      "metadata": {
        "id": "lSeSmhjq7KHQ"
      }
    },
    {
      "cell_type": "markdown",
      "source": [],
      "metadata": {
        "id": "ph6TcC9XZpRd"
      }
    },
    {
      "cell_type": "code",
      "source": [
        "# Prepare a deque and a list with the same number of elements\n",
        "deque_1 = deque(range(50000))\n",
        "list_1 = list(range(50000))"
      ],
      "metadata": {
        "id": "UKP_Ou-M8KVt"
      },
      "execution_count": 15,
      "outputs": []
    },
    {
      "cell_type": "code",
      "source": [
        "# Accessing an element at the middle\n",
        "%%timeit\n",
        "_ = deque_1[25000]"
      ],
      "metadata": {
        "colab": {
          "base_uri": "https://localhost:8080/"
        },
        "id": "CrMwyT2G8yd-",
        "outputId": "22f50254-86e7-4e6d-e677-0dddb243c75e"
      },
      "execution_count": 16,
      "outputs": [
        {
          "output_type": "stream",
          "name": "stdout",
          "text": [
            "1.73 µs ± 70.6 ns per loop (mean ± std. dev. of 7 runs, 1000000 loops each)\n"
          ]
        }
      ]
    },
    {
      "cell_type": "code",
      "source": [
        "%%timeit\n",
        "_ = list_1[25000]"
      ],
      "metadata": {
        "colab": {
          "base_uri": "https://localhost:8080/"
        },
        "id": "vFuMXTtp8q70",
        "outputId": "c7f662cb-301f-4673-9489-0d7f795beb2a"
      },
      "execution_count": 17,
      "outputs": [
        {
          "output_type": "stream",
          "name": "stdout",
          "text": [
            "45.9 ns ± 0.426 ns per loop (mean ± std. dev. of 7 runs, 10000000 loops each)\n"
          ]
        }
      ]
    },
    {
      "cell_type": "markdown",
      "source": [
        "**example:** You want to keep a limited history of the last few items seen during iteration or during some other kinda processing."
      ],
      "metadata": {
        "id": "wxYwFW2VaD9N"
      }
    },
    {
      "cell_type": "code",
      "source": [
        "from google.colab import drive\n",
        "drive.mount('/content/drive')\n",
        "with open('/content/drive/MyDrive/Colab Notebooks/somefile.txt') as f:\n",
        "    print(f.read())"
      ],
      "metadata": {
        "colab": {
          "base_uri": "https://localhost:8080/"
        },
        "id": "Tx0e9Gvo1UVN",
        "outputId": "2c12deb7-f9d5-48a7-ca58-05faed1404a7"
      },
      "execution_count": 18,
      "outputs": [
        {
          "output_type": "stream",
          "name": "stdout",
          "text": [
            "Mounted at /content/drive\n",
            "Line 1: This is a sample text file.\n",
            "Line 2: It contains multiple lines of text.\n",
            "Line 3: Python is a versatile programming language.\n",
            "Line 4: Many developers love using Python.\n",
            "Line 5: It is widely used in AI, data science, and web development.\n",
            "Line 6: This line does not mention the keyword.\n",
            "Line 7: Python is also great for beginners.\n",
            "Line 8: Another line without the keyword.\n",
            "Line 9: The keyword Python appears again here.\n",
            "Line 10: End of the file.\n"
          ]
        }
      ]
    },
    {
      "cell_type": "code",
      "source": [
        "#Keeping a limited history is a perfect use for a collections.deque.\n",
        "#for example lets make a function that looks for a specific pattern in a sequence of lines, such as the contents of a file,\n",
        "#while keeping track of a certain number of lines read before each match\n",
        "\n",
        "def find(lines, pattern, history=10):\n",
        "  prev_lines = deque(maxlen=history)\n",
        "  for line in lines:\n",
        "    if pattern in line:\n",
        "      yield line, prev_lines\n",
        "    prev_lines.append(line)\n",
        "#Note: The use of yield makes this function a generator, allowing it to return results one at a time without reading all lines into memory"
      ],
      "metadata": {
        "id": "xfi9egMGaV3K"
      },
      "execution_count": 19,
      "outputs": []
    },
    {
      "cell_type": "markdown",
      "source": [
        "Attention for **history:**\n",
        "For every line in lines:\n",
        "\n",
        "\n",
        "*   If the pattern exists in the current line, the function yields the current line along with the stored previous lines.\n",
        "*   It adds the current line to previous_lines, automatically discarding the oldest line if the deque is full.\n",
        "\n",
        "\n",
        "\n"
      ],
      "metadata": {
        "id": "9q2K1xE0_L6Z"
      }
    },
    {
      "cell_type": "code",
      "source": [
        "with open('/content/drive/MyDrive/Colab Notebooks/somefile.txt') as f:\n",
        "    for line, prevlines in find(f, 'Python', 4):\n",
        "        for x in prevlines:\n",
        "          print(x, end='')\n",
        "        print(line, end='')\n",
        "        print('-'*20)"
      ],
      "metadata": {
        "id": "J4OKVmfbzagX",
        "outputId": "97266bc2-1da1-4db7-c505-fa9c6f282d56",
        "colab": {
          "base_uri": "https://localhost:8080/"
        }
      },
      "execution_count": 27,
      "outputs": [
        {
          "output_type": "stream",
          "name": "stdout",
          "text": [
            "Line 1: This is a sample text file.\n",
            "Line 2: It contains multiple lines of text.\n",
            "Line 3: Python is a versatile programming language.\n",
            "--------------------\n",
            "Line 1: This is a sample text file.\n",
            "Line 2: It contains multiple lines of text.\n",
            "Line 3: Python is a versatile programming language.\n",
            "Line 4: Many developers love using Python.\n",
            "--------------------\n",
            "Line 3: Python is a versatile programming language.\n",
            "Line 4: Many developers love using Python.\n",
            "Line 5: It is widely used in AI, data science, and web development.\n",
            "Line 6: This line does not mention the keyword.\n",
            "Line 7: Python is also great for beginners.\n",
            "--------------------\n",
            "Line 5: It is widely used in AI, data science, and web development.\n",
            "Line 6: This line does not mention the keyword.\n",
            "Line 7: Python is also great for beginners.\n",
            "Line 8: Another line without the keyword.\n",
            "Line 9: The keyword Python appears again here.\n",
            "--------------------\n"
          ]
        }
      ]
    },
    {
      "cell_type": "markdown",
      "source": [
        "**Use cases:**\n",
        "\n",
        "This script can be useful for:\n",
        "\n",
        "Searching log files for specific patterns (e.g., error messages) while providing context for each occurrence.\n",
        "Debugging programs by analyzing output files or logs.\n",
        "Parsing large files without loading the entire file into memory."
      ],
      "metadata": {
        "id": "fORQmnRL_tTD"
      }
    }
  ]
}